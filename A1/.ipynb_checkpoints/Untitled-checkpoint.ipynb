{
 "cells": [
  {
   "cell_type": "code",
   "execution_count": 83,
   "id": "technical-flashing",
   "metadata": {},
   "outputs": [],
   "source": [
    "x = 6*np.random.rand(100,2) -3\n",
    "y = 3*x[:,0] + 2*x[:,1] + 2*np.random.rand(100,)"
   ]
  },
  {
   "cell_type": "code",
   "execution_count": 84,
   "id": "precious-debut",
   "metadata": {},
   "outputs": [],
   "source": [
    "mlp = keras.models.Sequential([\n",
    "    Dense(1024, activation='relu', input_shape=(2,)),\n",
    "    Dense(512, activation='relu'),\n",
    "    Dense(1, activation='linear')\n",
    "          ])\n",
    "    \n",
    "mlp.compile(loss='mean_squared_error', optimizer='adam')"
   ]
  },
  {
   "cell_type": "code",
   "execution_count": 86,
   "id": "frequent-wagon",
   "metadata": {},
   "outputs": [
    {
     "name": "stdout",
     "output_type": "stream",
     "text": [
      "[  2.242426     6.6853584    3.10022726   5.44248252   2.83746686\n",
      "  -3.77752426   1.64873872  -4.62763407  -7.43641328   2.16829557\n",
      "   0.54354233   3.0771578    2.21822638  -3.51156586  -5.4030717\n",
      "  -8.77819158   4.53036749  -5.88099693  -2.57647401   1.77006461\n",
      "   3.73913289  -3.01392757   1.36323923   4.9306667   -2.2906508\n",
      "  -0.71891549   5.83153514   6.37642979  11.02896069   2.28175595\n",
      "  15.18508917   5.22007303  -3.92851392  -5.88391919  -4.69698071\n",
      "  13.20453759   5.95204669  -1.42221476   6.88472242   3.10995319\n",
      "  -3.68112976   3.38512309   7.66688361   6.13989654   9.72148591\n",
      "   5.54038147   0.60733086   6.27805109 -10.5997638  -12.01438962\n",
      "  -7.39637615   3.6264022   13.57147537  -4.51914655  10.779885\n",
      "  -3.90246845  -1.6107936   -5.93618908   5.50914095  -5.64097471\n",
      "  -5.29332026   2.09212149   0.12953741   5.20359117 -10.23498896\n",
      "   7.79726117  -6.23490483   3.95791833  -7.93773574  -4.94264951\n",
      "   3.66706855   3.9607327    1.05815484  -2.77575412   0.97968017\n",
      "   2.07006784  -5.970385    -2.46888686  -4.21377855   5.49579701\n",
      "  -2.53922956  -2.03530218   8.56483237 -13.66735969  -6.25639287\n",
      " -10.11182428  -0.86399272   7.65094118  11.0028733   -1.13922738\n",
      "   6.04122951   4.81789676  -5.37249482   0.45770342 -11.85655937\n",
      "  -7.2645094   -9.2592489   -1.73488819  -2.3396942   -6.61928701]\n"
     ]
    }
   ],
   "source": [
    "h = mlp.fit(x, y, epochs=100, batch_size=50, validation_split=0.5, verbose=0)"
   ]
  },
  {
   "cell_type": "code",
   "execution_count": null,
   "id": "trained-intranet",
   "metadata": {},
   "outputs": [],
   "source": []
  },
  {
   "cell_type": "code",
   "execution_count": null,
   "id": "oriental-river",
   "metadata": {},
   "outputs": [],
   "source": []
  }
 ],
 "metadata": {
  "kernelspec": {
   "display_name": "Python 3",
   "language": "python",
   "name": "python3"
  },
  "language_info": {
   "codemirror_mode": {
    "name": "ipython",
    "version": 3
   },
   "file_extension": ".py",
   "mimetype": "text/x-python",
   "name": "python",
   "nbconvert_exporter": "python",
   "pygments_lexer": "ipython3",
   "version": "3.7.9"
  }
 },
 "nbformat": 4,
 "nbformat_minor": 5
}
