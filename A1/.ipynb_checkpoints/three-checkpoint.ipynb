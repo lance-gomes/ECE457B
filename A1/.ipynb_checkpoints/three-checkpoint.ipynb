{
 "cells": [
  {
   "cell_type": "code",
   "execution_count": 33,
   "id": "regular-burns",
   "metadata": {},
   "outputs": [],
   "source": [
    "# Imports\n",
    "import numpy as np\n",
    "import matplotlib.pyplot as plt\n",
    "import tensorflow.keras as keras\n",
    "import copy\n",
    "from math import *\n",
    "import random\n",
    "from tensorflow.keras.layers import Dense, Flatten\n"
   ]
  },
  {
   "cell_type": "code",
   "execution_count": 34,
   "id": "rocky-purse",
   "metadata": {},
   "outputs": [],
   "source": [
    "# Functions\n",
    "def f_1(x):\n",
    "    return x*sin(6*pi*x)*exp(-1 * x * x)"
   ]
  },
  {
   "cell_type": "code",
   "execution_count": 35,
   "id": "unlike-assumption",
   "metadata": {},
   "outputs": [],
   "source": [
    "# Training Data\n",
    "\n",
    "data_f1_x = np.array([])\n",
    "data_f1_y = np.array([])\n",
    "\n",
    "for i in range(200):\n",
    "    x_f1 = random.uniform(-1, 1)\n",
    "    y_f1 = f_1(x_f1)\n",
    "    \n",
    "    data_f1_x = np.append(data_f1_x, x_f1)\n",
    "    data_f1_y = np.append(data_f1_y, y_f1)"
   ]
  },
  {
   "cell_type": "code",
   "execution_count": 36,
   "id": "necessary-difficulty",
   "metadata": {},
   "outputs": [],
   "source": [
    "# Splits\n",
    "\n",
    "data_points = [10, 40, 80, 200]\n",
    "hidden_nodes = [2, 10, 40, 100]\n",
    "\n",
    "M = [[() for i in range(4)] for i in range(4)]"
   ]
  },
  {
   "cell_type": "code",
   "execution_count": 66,
   "id": "incoming-johnston",
   "metadata": {
    "scrolled": false
   },
   "outputs": [
    {
     "name": "stdout",
     "output_type": "stream",
     "text": [
      "Val loss 0.026985596865415573\n",
      "Loss 0.07417619228363037\n"
     ]
    },
    {
     "data": {
      "image/png": "[encoded data removed]",
      "text/plain": [
       "<Figure size 432x288 with 1 Axes>"
      ]
     },
     "metadata": {
      "needs_background": "light"
     },
     "output_type": "display_data"
    }
   ],
   "source": [
    "# Implementation\n",
    "\n",
    "for i_ in range(1):\n",
    "    \n",
    "    i = int(i_ / 4)\n",
    "    j = i_ % 4\n",
    "    \n",
    "    num_points = data_points[i]\n",
    "    num_nodes = hidden_nodes[j]\n",
    "    num_train = int(num_points * 0.8)\n",
    "\n",
    "    x = data_f1_x[:num_train]\n",
    "    y = data_f1_y[:num_train]\n",
    "\n",
    "    x_test = data_f1_x[num_train: num_points]\n",
    "    y_test = data_f1_y[num_train: num_points]\n",
    "\n",
    "    num_folds = 10\n",
    "\n",
    "    if i == 0:\n",
    "        num_folds = 4\n",
    "    elif i == 1 or i == 2:\n",
    "        num_folds = 8\n",
    "\n",
    "    avg_training_error = 0\n",
    "    avg_validation_error = 0\n",
    "\n",
    "    best_model = None\n",
    "    best_validation_error = 90000000\n",
    "    for shuffle_count in range(1):\n",
    "        \n",
    "        shuffled_data = []\n",
    "        for k in range(len(x)):\n",
    "            shuffled_data.append((x[k], y[k]))\n",
    "        \n",
    "        random.shuffle(shuffled_data)\n",
    "        \n",
    "        shuffled_x = []\n",
    "        shuffled_y = []\n",
    "        \n",
    "        for k in shuffled_data:\n",
    "            shuffled_x.append(k[0])\n",
    "            shuffled_y.append(k[1])\n",
    "\n",
    "        k_fold_avg_training_error = 0\n",
    "        k_fold_avg_validation_error = 0\n",
    "\n",
    "        for validation_index in range(1):\n",
    "\n",
    "            paritioned_x = np.array_split(shuffled_x, num_folds)\n",
    "            paritioned_y = np.array_split(shuffled_y, num_folds)\n",
    "\n",
    "            validation_x = np.array(paritioned_x[validation_index])\n",
    "            validation_y = np.array(paritioned_y[validation_index])\n",
    "\n",
    "            training_x = np.delete(paritioned_x, validation_index, axis=0).flatten()\n",
    "            training_y = np.delete(paritioned_y, validation_index, axis=0).flatten()\n",
    "\n",
    "            mlp = keras.models.Sequential()\n",
    "            mlp.add(Dense(num_nodes, activation=\"sigmoid\", input_shape=(1,), kernel_initializer=keras.initializers.RandomNormal(mean=0., stddev=30), bias_initializer=keras.initializers.RandomNormal(mean=0., stddev=10)))\n",
    "            mlp.add(Dense(1, activation='linear'))\n",
    "            mlp.compile(loss='mean_squared_error', optimizer='adam', metrics=['accuracy'])\n",
    "\n",
    "\n",
    "            callbacks = [\n",
    "                keras.callbacks.EarlyStopping(\n",
    "                    # Stop training when `val_loss` is no longer improving\n",
    "                    monitor=\"val_loss\",\n",
    "                    # \"no longer improving\" being defined as \"no better than 1e-2 less\"\n",
    "                    min_delta=0.001,\n",
    "                    # \"no longer improving\" being further defined as \"for at least 2 epochs\"\n",
    "                    patience=30,\n",
    "                    verbose=1,\n",
    "                )\n",
    "            ]\n",
    "\n",
    "            h = mlp.fit(x, y, epochs=250, batch_size=10, validation_data=(validation_x, validation_y), verbose=0, callbacks=callbacks)\n",
    "            \n",
    "            print(\"Val loss\", h.history['val_loss'][-1])\n",
    "            print(\"Loss\", h.history['loss'][-1])\n",
    "            \n",
    "            if h.history['val_loss'][-1] < best_validation_error:\n",
    "                best_validation_error = h.history['val_loss'][-1]\n",
    "                best_model = mlp\n",
    "            \n",
    "            k_fold_avg_training_error += h.history['loss'][-1]\n",
    "            k_fold_avg_validation_error += h.history['val_loss'][-1]\n",
    "\n",
    "        k_fold_avg_training_error = k_fold_avg_training_error / num_folds\n",
    "        k_fold_avg_validation_error = k_fold_avg_validation_error / num_folds\n",
    "\n",
    "        avg_training_error += k_fold_avg_training_error\n",
    "        avg_validation_error += k_fold_avg_validation_error\n",
    "\n",
    "    avg_training_error = avg_training_error / 1\n",
    "    avg_validation_error = avg_validation_error / 1\n",
    "    \n",
    "    x_range = np.arange(start=-1, stop=1, step=0.01)\n",
    "    y_predict = best_model.predict(x_range)\n",
    "\n",
    "    plt.plot(x_range, y_predict)\n",
    "    plt.plot(x_range, [f_1(x)  for x in x_range])\n",
    "    plt.legend(['Prediction Model: ' + str(i_ + 1), 'True'])\n",
    "    plt.show()\n",
    "\n",
    "    \n",
    "    M[i][j] = ((avg_training_error, avg_validation_error, best_model))\n",
    "    \n"
   ]
  },
  {
   "cell_type": "code",
   "execution_count": 77,
   "id": "legal-albuquerque",
   "metadata": {},
   "outputs": [
    {
     "name": "stdout",
     "output_type": "stream",
     "text": [
      "validation x values:  [-0.42769463  0.93842887]\n",
      "model predicted y values:  [[ 0.11783317]\n",
      " [-0.32933012]]\n",
      "actual y values:  0.3485298623035343 -0.35672027356509933\n",
      "training x values:  [-0.75097251 -0.14638619 -0.28353567 -0.69677954  0.91142315  0.72389876]\n"
     ]
    }
   ],
   "source": [
    "    print(\"validation x values: \", validation_x)\n",
    "    print(\"model predicted y values: \", best_model.predict(validation_x))\n",
    "    print(\"actual y values: \", f_1(validation_x[0]), f_1(validation_x[1]))\n",
    "    \n",
    "    print(\"training x values: \", training_x)\n",
    "    print(\"training y values: \", training_y)"
   ]
  },
  {
   "cell_type": "code",
   "execution_count": null,
   "id": "immune-possible",
   "metadata": {},
   "outputs": [],
   "source": []
  }
 ],
 "metadata": {
  "kernelspec": {
   "display_name": "Python 3",
   "language": "python",
   "name": "python3"
  },
  "language_info": {
   "codemirror_mode": {
    "name": "ipython",
    "version": 3
   },
   "file_extension": ".py",
   "mimetype": "text/x-python",
   "name": "python",
   "nbconvert_exporter": "python",
   "pygments_lexer": "ipython3",
   "version": "3.7.9"
  }
 },
 "nbformat": 4,
 "nbformat_minor": 5
}
