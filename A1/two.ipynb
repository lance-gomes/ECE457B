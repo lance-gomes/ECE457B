{
 "cells": [
  {
   "cell_type": "code",
   "execution_count": 6,
   "metadata": {
    "id": "RXG5nIdl_OZh"
   },
   "outputs": [],
   "source": [
    "import random\n",
    "import time\n",
    "import math\n",
    "import matplotlib.pyplot as plt\n",
    "import numpy as np\n",
    "\n",
    "def step(x):\n",
    "  if x > 0:\n",
    "    return 1\n",
    "  else:\n",
    "    return -1"
   ]
  },
  {
   "cell_type": "code",
   "execution_count": 7,
   "metadata": {
    "id": "1b4Tfb7t_bbm"
   },
   "outputs": [],
   "source": [
    "def adaline(weights, inputs):\n",
    "  return step(np.dot(weights, inputs))"
   ]
  },
  {
   "cell_type": "code",
   "execution_count": 8,
   "metadata": {
    "id": "wn7l22hX_drX"
   },
   "outputs": [],
   "source": [
    "def madaline(inputs):\n",
    "\n",
    "  # Add bias weight of 1\n",
    "  input_a1 = inputs + [1]\n",
    "  input_a2 = inputs + [1]\n",
    "\n",
    "  sgn_1 = adaline(np.array([-1, 1, 0.5]), np.array(input_a1))\n",
    "  sgn_2 = adaline(np.array([-1, 1, -0.5]), np.array(input_a2))\n",
    "\n",
    "  weights = np.array([1, -1, -0.5])\n",
    "  inputs = np.array([sgn_1, sgn_2, 1])\n",
    "\n",
    "  return adaline(weights, inputs)"
   ]
  },
  {
   "cell_type": "code",
   "execution_count": 9,
   "metadata": {
    "id": "zFh7-I7x_g4f"
   },
   "outputs": [],
   "source": [
    "def graph():\n",
    "  x = [i for i in range(-2, 3)]\n",
    "  y_1 = [x_val + 0.5 for x_val in x]\n",
    "  y_2 = [x_val - 0.5 for x_val in x]\n",
    "\n",
    "  plt.plot(x, y_1, label=\"y = x - 0.5\")\n",
    "  plt.plot(x, y_2, label=\"y = x + 0.5\")\n",
    "\n",
    "  plt.plot(-1,-1, \"ro\")\n",
    "  plt.plot(-1,1, \"ro\")\n",
    "  plt.plot(1,-1, \"ro\")\n",
    "  plt.plot(1,1, \"ro\")\n",
    "\n",
    "  plt.xlabel('X')\n",
    "  plt.ylabel('Y')\n",
    "  plt.title('X vs Y')\n",
    "  plt.legend()\n",
    "  plt.show()"
   ]
  },
  {
   "cell_type": "code",
   "execution_count": 10,
   "metadata": {
    "colab": {
     "base_uri": "https://localhost:8080/",
     "height": 363
    },
    "id": "mMHnMofZ_jkd",
    "outputId": "732e23be-c51e-4a3e-8c76-9efb51fc7019"
   },
   "outputs": [
    {
     "name": "stdout",
     "output_type": "stream",
     "text": [
      "XNOR Output(x= -1, y= -1):  1\n",
      "XNOR Output(x= -1, y=  1): -1\n",
      "XNOR Output(x=  1, y= -1): -1\n",
      "XNOR Output(x=  1, y=  1):  1\n"
     ]
    },
    {
     "data": {
      "image/png": "[encoded data removed]",
      "text/plain": [
       "<Figure size 432x288 with 1 Axes>"
      ]
     },
     "metadata": {
      "needs_background": "light"
     },
     "output_type": "display_data"
    }
   ],
   "source": [
    "print(\"XNOR Output(x= -1, y= -1): \", madaline([-1,-1]))\n",
    "print(\"XNOR Output(x= -1, y=  1):\", madaline([-1,1]))\n",
    "print(\"XNOR Output(x=  1, y= -1):\", madaline([1,-1]))\n",
    "print(\"XNOR Output(x=  1, y=  1): \", madaline([1,1]))\n",
    "graph()"
   ]
  },
  {
   "cell_type": "code",
   "execution_count": null,
   "metadata": {
    "id": "ybfEfjXH_lvK"
   },
   "outputs": [],
   "source": []
  }
 ],
 "metadata": {
  "colab": {
   "collapsed_sections": [],
   "name": "Q2.ipynb",
   "provenance": []
  },
  "kernelspec": {
   "display_name": "Python 3",
   "language": "python",
   "name": "python3"
  },
  "language_info": {
   "codemirror_mode": {
    "name": "ipython",
    "version": 3
   },
   "file_extension": ".py",
   "mimetype": "text/x-python",
   "name": "python",
   "nbconvert_exporter": "python",
   "pygments_lexer": "ipython3",
   "version": "3.7.9"
  }
 },
 "nbformat": 4,
 "nbformat_minor": 1
}
