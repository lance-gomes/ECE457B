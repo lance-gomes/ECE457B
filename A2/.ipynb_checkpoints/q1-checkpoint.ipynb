{
 "cells": [
  {
   "cell_type": "code",
   "execution_count": 2,
   "id": "utility-exhibit",
   "metadata": {},
   "outputs": [],
   "source": [
    "# Imports\n",
    "import numpy as np\n",
    "import matplotlib.pyplot as plt\n",
    "import tensorflow.keras as keras\n",
    "\n",
    "from math import *\n",
    "\n",
    "from tensorflow.keras.models import Sequential\n",
    "from tensorflow.keras.layers import Dense, Flatten\n",
    "from tensorflow.keras.optimizers import Adam\n",
    "\n",
    "from sklearn.model_selection import train_test_split\n",
    "from sklearn.preprocessing import OneHotEncoder, MinMaxScaler\n",
    "from sklearn.metrics import confusion_matrix, classification_report, ConfusionMatrixDisplay"
   ]
  },
  {
   "cell_type": "code",
   "execution_count": 3,
   "id": "typical-master",
   "metadata": {},
   "outputs": [
    {
     "name": "stdout",
     "output_type": "stream",
     "text": [
      "(768, 8)\n",
      "(768,)\n"
     ]
    }
   ],
   "source": [
    "# Parse CSV\n",
    "data = np.genfromtxt('./diabetes.csv', delimiter=',')\n",
    "data = np.delete(data, 0, axis=0)\n",
    "labels = data[:, -1]\n",
    "data = np.delete(data, -1, axis=1)\n",
    "\n",
    "print(np.shape(data))\n",
    "print(np.shape(labels))"
   ]
  },
  {
   "cell_type": "code",
   "execution_count": 4,
   "id": "informed-devices",
   "metadata": {},
   "outputs": [
    {
     "name": "stdout",
     "output_type": "stream",
     "text": [
      "Sample train data: [[0.05882353 0.         0.60655738 0.2020202  0.02718676 0.41281669\n",
      "  0.09436379 0.        ]]\n",
      "Sample train labels: [[1. 0.]]\n"
     ]
    }
   ],
   "source": [
    "# Preprocess Data\n",
    "data_norm = (data - data.min(axis=0)) / (data.max(axis=0) - data.min(axis=0))\n",
    "\n",
    "encoder = OneHotEncoder(sparse=False)\n",
    "\n",
    "x_train, x_test, y_train, y_test = train_test_split(data_norm, labels, test_size=0.20)\n",
    "y_train_enc = encoder.fit_transform(y_train.reshape(-1,1))\n",
    "y_test_enc = encoder.fit_transform(y_test.reshape(-1,1))\n",
    "class_names = ['Has Diabetes', 'No Diabetes']\n",
    "\n",
    "print(\"Sample train data: {}\".format(x_train[:1]))\n",
    "print(\"Sample train labels: {}\".format(y_train_enc[:1]))"
   ]
  },
  {
   "cell_type": "code",
   "execution_count": 5,
   "id": "selective-polyester",
   "metadata": {},
   "outputs": [
    {
     "name": "stdout",
     "output_type": "stream",
     "text": [
      "Final test set loss: 0.527967\n",
      "Final test set accuracy: 0.668831\n",
      "              precision    recall  f1-score   support\n",
      "\n",
      "Has Diabetes       0.72      0.79      0.75        99\n",
      " No Diabetes       0.54      0.45      0.50        55\n",
      "\n",
      "    accuracy                           0.67       154\n",
      "   macro avg       0.63      0.62      0.62       154\n",
      "weighted avg       0.66      0.67      0.66       154\n",
      "\n"
     ]
    },
    {
     "data": {
      "text/plain": [
       "<sklearn.metrics._plot.confusion_matrix.ConfusionMatrixDisplay at 0x7f9ade6e2050>"
      ]
     },
     "execution_count": 5,
     "metadata": {},
     "output_type": "execute_result"
    },
    {
     "data": {
      "image/png": "[encoded data removed]",
      "text/plain": [
       "<Figure size 432x288 with 2 Axes>"
      ]
     },
     "metadata": {
      "needs_background": "light"
     },
     "output_type": "display_data"
    }
   ],
   "source": [
    "# 1 Hidden Layer, 1 nodes, 2 nodes in output layer\n",
    "mlp = keras.models.Sequential()\n",
    "\n",
    "mlp.add(Dense(3, activation=\"sigmoid\", input_shape=(8,)))\n",
    "mlp.add(Dense(2, activation='softmax', name='output'))\n",
    "\n",
    "optimizer = Adam(lr=0.001)\n",
    "mlp.compile(optimizer, loss='categorical_crossentropy', metrics=['accuracy'])\n",
    "mlp.fit(x_train, y_train_enc, verbose=0, batch_size=5, epochs=100)\n",
    "results = mlp.evaluate(x_test, y_test_enc, verbose=0)\n",
    "\n",
    "print('Final test set loss: {:4f}'.format(results[0]))\n",
    "print('Final test set accuracy: {:4f}'.format(results[1]))\n",
    "\n",
    "class_results = mlp.predict_classes(x_test)\n",
    "confusion_matrix_vals = confusion_matrix(y_test, class_results)\n",
    "print(classification_report(y_test, class_results, target_names=class_names))\n",
    "\n",
    "disp1 = ConfusionMatrixDisplay(confusion_matrix=confusion_matrix_vals, display_labels=class_names)\n",
    "disp1.plot()"
   ]
  },
  {
   "cell_type": "code",
   "execution_count": 6,
   "id": "heard-polish",
   "metadata": {},
   "outputs": [
    {
     "name": "stdout",
     "output_type": "stream",
     "text": [
      "Final test set loss: 0.469631\n",
      "Final test set accuracy: 0.766234\n",
      "              precision    recall  f1-score   support\n",
      "\n",
      "Has Diabetes       0.80      0.85      0.82        99\n",
      " No Diabetes       0.69      0.62      0.65        55\n",
      "\n",
      "    accuracy                           0.77       154\n",
      "   macro avg       0.75      0.73      0.74       154\n",
      "weighted avg       0.76      0.77      0.76       154\n",
      "\n"
     ]
    },
    {
     "data": {
      "text/plain": [
       "<sklearn.metrics._plot.confusion_matrix.ConfusionMatrixDisplay at 0x7f9ade5f5910>"
      ]
     },
     "execution_count": 6,
     "metadata": {},
     "output_type": "execute_result"
    },
    {
     "data": {
      "image/png": "[encoded data removed]",
      "text/plain": [
       "<Figure size 432x288 with 2 Axes>"
      ]
     },
     "metadata": {
      "needs_background": "light"
     },
     "output_type": "display_data"
    }
   ],
   "source": [
    "# 1 Hidden Layer, 1 nodes, 2 nodes in output layer\n",
    "mlp = keras.models.Sequential()\n",
    "\n",
    "mlp.add(Dense(10, activation=\"sigmoid\", input_shape=(8,)))\n",
    "mlp.add(Dense(2, activation='softmax', name='output'))\n",
    "\n",
    "optimizer = Adam(lr=0.001)\n",
    "mlp.compile(optimizer, loss='categorical_crossentropy', metrics=['accuracy'])\n",
    "mlp.fit(x_train, y_train_enc, verbose=0, batch_size=5, epochs=100)\n",
    "results = mlp.evaluate(x_test, y_test_enc, verbose=0)\n",
    "\n",
    "print('Final test set loss: {:4f}'.format(results[0]))\n",
    "print('Final test set accuracy: {:4f}'.format(results[1]))\n",
    "\n",
    "class_results = mlp.predict_classes(x_test)\n",
    "confusion_matrix_vals = confusion_matrix(y_test, class_results)\n",
    "print(classification_report(y_test, class_results, target_names=class_names))\n",
    "\n",
    "disp1 = ConfusionMatrixDisplay(confusion_matrix=confusion_matrix_vals, display_labels=class_names)\n",
    "disp1.plot()"
   ]
  },
  {
   "cell_type": "code",
   "execution_count": 7,
   "id": "geographic-african",
   "metadata": {},
   "outputs": [
    {
     "name": "stdout",
     "output_type": "stream",
     "text": [
      "Final test set loss: 0.443785\n",
      "Final test set accuracy: 0.792208\n",
      "              precision    recall  f1-score   support\n",
      "\n",
      "Has Diabetes       0.81      0.88      0.84        99\n",
      " No Diabetes       0.74      0.64      0.69        55\n",
      "\n",
      "    accuracy                           0.79       154\n",
      "   macro avg       0.78      0.76      0.77       154\n",
      "weighted avg       0.79      0.79      0.79       154\n",
      "\n"
     ]
    },
    {
     "data": {
      "text/plain": [
       "<sklearn.metrics._plot.confusion_matrix.ConfusionMatrixDisplay at 0x7f9ade3d1710>"
      ]
     },
     "execution_count": 7,
     "metadata": {},
     "output_type": "execute_result"
    },
    {
     "data": {
      "image/png": "[encoded data removed]",
      "text/plain": [
       "<Figure size 432x288 with 2 Axes>"
      ]
     },
     "metadata": {
      "needs_background": "light"
     },
     "output_type": "display_data"
    }
   ],
   "source": [
    "# 1 Hidden Layer, 1 nodes, 2 nodes in output layer\n",
    "mlp = keras.models.Sequential()\n",
    "\n",
    "mlp.add(Dense(3, activation=\"sigmoid\", input_shape=(8,)))\n",
    "mlp.add(Dense(3, activation='relu', name='hidden1'))\n",
    "mlp.add(Dense(2, activation='softmax', name='output'))\n",
    "\n",
    "optimizer = Adam(lr=0.001)\n",
    "mlp.compile(optimizer, loss='categorical_crossentropy', metrics=['accuracy'])\n",
    "mlp.fit(x_train, y_train_enc, verbose=0, batch_size=5, epochs=100)\n",
    "results = mlp.evaluate(x_test, y_test_enc, verbose=0)\n",
    "\n",
    "print('Final test set loss: {:4f}'.format(results[0]))\n",
    "print('Final test set accuracy: {:4f}'.format(results[1]))\n",
    "\n",
    "class_results = mlp.predict_classes(x_test)\n",
    "confusion_matrix_vals = confusion_matrix(y_test, class_results)\n",
    "print(classification_report(y_test, class_results, target_names=class_names))\n",
    "\n",
    "disp1 = ConfusionMatrixDisplay(confusion_matrix=confusion_matrix_vals, display_labels=class_names)\n",
    "disp1.plot()"
   ]
  },
  {
   "cell_type": "code",
   "execution_count": 8,
   "id": "sophisticated-material",
   "metadata": {},
   "outputs": [
    {
     "name": "stdout",
     "output_type": "stream",
     "text": [
      "Final test set loss: 0.651960\n",
      "Final test set accuracy: 0.642857\n",
      "              precision    recall  f1-score   support\n",
      "\n",
      "Has Diabetes       0.64      1.00      0.78        99\n",
      " No Diabetes       0.00      0.00      0.00        55\n",
      "\n",
      "    accuracy                           0.64       154\n",
      "   macro avg       0.32      0.50      0.39       154\n",
      "weighted avg       0.41      0.64      0.50       154\n",
      "\n"
     ]
    },
    {
     "name": "stderr",
     "output_type": "stream",
     "text": [
      "/Users/lancegomes/opt/anaconda3/envs/457/lib/python3.7/site-packages/sklearn/metrics/_classification.py:1245: UndefinedMetricWarning: Precision and F-score are ill-defined and being set to 0.0 in labels with no predicted samples. Use `zero_division` parameter to control this behavior.\n",
      "  _warn_prf(average, modifier, msg_start, len(result))\n",
      "/Users/lancegomes/opt/anaconda3/envs/457/lib/python3.7/site-packages/sklearn/metrics/_classification.py:1245: UndefinedMetricWarning: Precision and F-score are ill-defined and being set to 0.0 in labels with no predicted samples. Use `zero_division` parameter to control this behavior.\n",
      "  _warn_prf(average, modifier, msg_start, len(result))\n",
      "/Users/lancegomes/opt/anaconda3/envs/457/lib/python3.7/site-packages/sklearn/metrics/_classification.py:1245: UndefinedMetricWarning: Precision and F-score are ill-defined and being set to 0.0 in labels with no predicted samples. Use `zero_division` parameter to control this behavior.\n",
      "  _warn_prf(average, modifier, msg_start, len(result))\n"
     ]
    },
    {
     "data": {
      "text/plain": [
       "<sklearn.metrics._plot.confusion_matrix.ConfusionMatrixDisplay at 0x7f9ade3d8190>"
      ]
     },
     "execution_count": 8,
     "metadata": {},
     "output_type": "execute_result"
    },
    {
     "data": {
      "image/png": "[encoded data removed]",
      "text/plain": [
       "<Figure size 432x288 with 2 Axes>"
      ]
     },
     "metadata": {
      "needs_background": "light"
     },
     "output_type": "display_data"
    }
   ],
   "source": [
    "# 1 Hidden Layer, 1 nodes, 2 nodes in output layer\n",
    "mlp = keras.models.Sequential()\n",
    "\n",
    "mlp.add(Dense(10, activation=\"sigmoid\", input_shape=(8,)))\n",
    "mlp.add(Dense(3, activation='relu', name='hidden1'))\n",
    "mlp.add(Dense(2, activation='softmax', name='output'))\n",
    "\n",
    "optimizer = Adam(lr=0.001)\n",
    "mlp.compile(optimizer, loss='categorical_crossentropy', metrics=['accuracy'])\n",
    "mlp.fit(x_train, y_train_enc, verbose=0, batch_size=5, epochs=100)\n",
    "results = mlp.evaluate(x_test, y_test_enc, verbose=0)\n",
    "\n",
    "print('Final test set loss: {:4f}'.format(results[0]))\n",
    "print('Final test set accuracy: {:4f}'.format(results[1]))\n",
    "\n",
    "class_results = mlp.predict_classes(x_test)\n",
    "confusion_matrix_vals = confusion_matrix(y_test, class_results)\n",
    "print(classification_report(y_test, class_results, target_names=class_names))\n",
    "\n",
    "disp1 = ConfusionMatrixDisplay(confusion_matrix=confusion_matrix_vals, display_labels=class_names)\n",
    "disp1.plot()"
   ]
  },
  {
   "cell_type": "code",
   "execution_count": 9,
   "id": "explicit-assessment",
   "metadata": {},
   "outputs": [
    {
     "name": "stdout",
     "output_type": "stream",
     "text": [
      "Final test set loss: 0.425045\n",
      "Final test set accuracy: 0.824675\n",
      "              precision    recall  f1-score   support\n",
      "\n",
      "Has Diabetes       0.84      0.90      0.87        99\n",
      " No Diabetes       0.79      0.69      0.74        55\n",
      "\n",
      "    accuracy                           0.82       154\n",
      "   macro avg       0.82      0.79      0.80       154\n",
      "weighted avg       0.82      0.82      0.82       154\n",
      "\n"
     ]
    },
    {
     "data": {
      "text/plain": [
       "<sklearn.metrics._plot.confusion_matrix.ConfusionMatrixDisplay at 0x7f9ae095af50>"
      ]
     },
     "execution_count": 9,
     "metadata": {},
     "output_type": "execute_result"
    },
    {
     "data": {
      "image/png": "[encoded data removed]",
      "text/plain": [
       "<Figure size 432x288 with 2 Axes>"
      ]
     },
     "metadata": {
      "needs_background": "light"
     },
     "output_type": "display_data"
    }
   ],
   "source": [
    "# 1 Hidden Layer, 1 nodes, 2 nodes in output layer\n",
    "mlp = keras.models.Sequential()\n",
    "\n",
    "mlp.add(Dense(10, activation=\"sigmoid\", input_shape=(8,)))\n",
    "mlp.add(Dense(10, activation='relu', name='hidden1'))\n",
    "mlp.add(Dense(2, activation='softmax', name='output'))\n",
    "\n",
    "optimizer = Adam(lr=0.001)\n",
    "mlp.compile(optimizer, loss='categorical_crossentropy', metrics=['accuracy'])\n",
    "mlp.fit(x_train, y_train_enc, verbose=0, batch_size=5, epochs=200)\n",
    "results = mlp.evaluate(x_test, y_test_enc, verbose=0)\n",
    "\n",
    "print('Final test set loss: {:4f}'.format(results[0]))\n",
    "print('Final test set accuracy: {:4f}'.format(results[1]))\n",
    "\n",
    "class_results = mlp.predict_classes(x_test)\n",
    "confusion_matrix_vals = confusion_matrix(y_test, class_results)\n",
    "print(classification_report(y_test, class_results, target_names=class_names))\n",
    "\n",
    "disp1 = ConfusionMatrixDisplay(confusion_matrix=confusion_matrix_vals, display_labels=class_names)\n",
    "disp1.plot()"
   ]
  },
  {
   "cell_type": "code",
   "execution_count": 12,
   "id": "finnish-tumor",
   "metadata": {},
   "outputs": [
    {
     "name": "stdout",
     "output_type": "stream",
     "text": [
      "Final test set loss: 0.493947\n",
      "Final test set accuracy: 0.740260\n",
      "              precision    recall  f1-score   support\n",
      "\n",
      "Has Diabetes       0.77      0.86      0.81        99\n",
      " No Diabetes       0.67      0.53      0.59        55\n",
      "\n",
      "    accuracy                           0.74       154\n",
      "   macro avg       0.72      0.69      0.70       154\n",
      "weighted avg       0.73      0.74      0.73       154\n",
      "\n"
     ]
    },
    {
     "data": {
      "text/plain": [
       "<sklearn.metrics._plot.confusion_matrix.ConfusionMatrixDisplay at 0x7f9adfce66d0>"
      ]
     },
     "execution_count": 12,
     "metadata": {},
     "output_type": "execute_result"
    },
    {
     "data": {
      "image/png": "[encoded data removed]",
      "text/plain": [
       "<Figure size 432x288 with 2 Axes>"
      ]
     },
     "metadata": {
      "needs_background": "light"
     },
     "output_type": "display_data"
    }
   ],
   "source": [
    "# 1 Hidden Layer, 1 nodes, 2 nodes in output layer\n",
    "mlp = keras.models.Sequential()\n",
    "\n",
    "mlp.add(Dense(32, activation=\"sigmoid\", input_shape=(8,)))\n",
    "mlp.add(Dense(32, activation='relu', name='hidden1'))\n",
    "mlp.add(Dense(2, activation='softmax', name='output'))\n",
    "\n",
    "optimizer = Adam(lr=0.0001)\n",
    "mlp.compile(optimizer, loss='categorical_crossentropy', metrics=['accuracy'])\n",
    "mlp.fit(x_train, y_train_enc, verbose=0, batch_size=5, epochs=200)\n",
    "results = mlp.evaluate(x_test, y_test_enc, verbose=0)\n",
    "\n",
    "print('Final test set loss: {:4f}'.format(results[0]))\n",
    "print('Final test set accuracy: {:4f}'.format(results[1]))\n",
    "\n",
    "class_results = mlp.predict_classes(x_test)\n",
    "confusion_matrix_vals = confusion_matrix(y_test, class_results)\n",
    "print(classification_report(y_test, class_results, target_names=class_names))\n",
    "\n",
    "disp1 = ConfusionMatrixDisplay(confusion_matrix=confusion_matrix_vals, display_labels=class_names)\n",
    "disp1.plot()"
   ]
  },
  {
   "cell_type": "code",
   "execution_count": 14,
   "id": "proud-expansion",
   "metadata": {},
   "outputs": [
    {
     "name": "stdout",
     "output_type": "stream",
     "text": [
      "Final test set loss: 0.475171\n",
      "Final test set accuracy: 0.753247\n",
      "              precision    recall  f1-score   support\n",
      "\n",
      "Has Diabetes       0.80      0.83      0.81        99\n",
      " No Diabetes       0.67      0.62      0.64        55\n",
      "\n",
      "    accuracy                           0.75       154\n",
      "   macro avg       0.73      0.72      0.73       154\n",
      "weighted avg       0.75      0.75      0.75       154\n",
      "\n"
     ]
    },
    {
     "data": {
      "text/plain": [
       "<sklearn.metrics._plot.confusion_matrix.ConfusionMatrixDisplay at 0x7f9ac1a44050>"
      ]
     },
     "execution_count": 14,
     "metadata": {},
     "output_type": "execute_result"
    },
    {
     "data": {
      "image/png": "[encoded data removed]",
      "text/plain": [
       "<Figure size 432x288 with 2 Axes>"
      ]
     },
     "metadata": {
      "needs_background": "light"
     },
     "output_type": "display_data"
    }
   ],
   "source": [
    "# 1 Hidden Layer, 1 nodes, 2 nodes in output layer\n",
    "mlp = keras.models.Sequential()\n",
    "\n",
    "mlp.add(Dense(64, activation=\"sigmoid\", input_shape=(8,)))\n",
    "mlp.add(Dense(64, activation='relu', name='hidden1'))\n",
    "mlp.add(Dense(2, activation='softmax', name='output'))\n",
    "\n",
    "optimizer = Adam(lr=0.0001)\n",
    "mlp.compile(optimizer, loss='categorical_crossentropy', metrics=['accuracy'])\n",
    "mlp.fit(x_train, y_train_enc, verbose=0, batch_size=5, epochs=200)\n",
    "results = mlp.evaluate(x_test, y_test_enc, verbose=0)\n",
    "\n",
    "print('Final test set loss: {:4f}'.format(results[0]))\n",
    "print('Final test set accuracy: {:4f}'.format(results[1]))\n",
    "\n",
    "class_results = mlp.predict_classes(x_test)\n",
    "confusion_matrix_vals = confusion_matrix(y_test, class_results)\n",
    "print(classification_report(y_test, class_results, target_names=class_names))\n",
    "\n",
    "disp1 = ConfusionMatrixDisplay(confusion_matrix=confusion_matrix_vals, display_labels=class_names)\n",
    "disp1.plot()"
   ]
  },
  {
   "cell_type": "code",
   "execution_count": null,
   "id": "southern-brief",
   "metadata": {},
   "outputs": [],
   "source": [
    "# 1 Hidden Layer, 1 nodes, 2 nodes in output layer\n",
    "mlp = keras.models.Sequential()\n",
    "\n",
    "mlp.add(Dense(124, activation=\"sigmoid\", input_shape=(8,)))\n",
    "mlp.add(Dense(124, activation='relu', name='hidden1'))\n",
    "mlp.add(Dense(32, activation='relu', name='hidden2'))\n",
    "mlp.add(Dense(2, activation='softmax', name='output'))\n",
    "\n",
    "optimizer = Adam(lr=0.0001)\n",
    "mlp.compile(optimizer, loss='categorical_crossentropy', metrics=['accuracy'])\n",
    "mlp.fit(x_train, y_train_enc, verbose=0, batch_size=5, epochs=200)\n",
    "results = mlp.evaluate(x_test, y_test_enc, verbose=0)\n",
    "\n",
    "print('Final test set loss: {:4f}'.format(results[0]))\n",
    "print('Final test set accuracy: {:4f}'.format(results[1]))\n",
    "\n",
    "class_results = mlp.predict_classes(x_test)\n",
    "confusion_matrix_vals = confusion_matrix(y_test, class_results)\n",
    "print(classification_report(y_test, class_results, target_names=class_names))\n",
    "\n",
    "disp1 = ConfusionMatrixDisplay(confusion_matrix=confusion_matrix_vals, display_labels=class_names)\n",
    "disp1.plot()"
   ]
  },
  {
   "cell_type": "code",
   "execution_count": null,
   "id": "special-learning",
   "metadata": {},
   "outputs": [],
   "source": []
  }
 ],
 "metadata": {
  "kernelspec": {
   "display_name": "Python 3",
   "language": "python",
   "name": "python3"
  },
  "language_info": {
   "codemirror_mode": {
    "name": "ipython",
    "version": 3
   },
   "file_extension": ".py",
   "mimetype": "text/x-python",
   "name": "python",
   "nbconvert_exporter": "python",
   "pygments_lexer": "ipython3",
   "version": "3.7.9"
  }
 },
 "nbformat": 4,
 "nbformat_minor": 5
}
