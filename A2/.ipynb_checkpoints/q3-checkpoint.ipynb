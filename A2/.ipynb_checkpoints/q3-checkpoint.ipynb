{
 "cells": [
  {
   "cell_type": "code",
   "execution_count": 2,
   "id": "treated-wichita",
   "metadata": {},
   "outputs": [],
   "source": [
    "# Imports\n",
    "import numpy as np\n",
    "import matplotlib.pyplot as plt\n",
    "import tensorflow.keras as keras\n",
    "\n",
    "from math import *\n",
    "\n",
    "from tensorflow.keras.models import Sequential\n",
    "from tensorflow.keras.layers import Dense, Flatten\n",
    "from tensorflow.keras.optimizers import Adam\n",
    "\n",
    "from sklearn.model_selection import train_test_split\n",
    "from sklearn.preprocessing import OneHotEncoder, MinMaxScaler\n",
    "from sklearn.metrics import confusion_matrix, classification_report, ConfusionMatrixDisplay"
   ]
  },
  {
   "cell_type": "code",
   "execution_count": 7,
   "id": "owned-exhibition",
   "metadata": {},
   "outputs": [],
   "source": [
    "# Training Data\n",
    "encoder = OneHotEncoder(sparse=False)\n",
    "\n",
    "(x_train, y_train), (x_test, y_test) = keras.datasets.cifar10.load_data()\n",
    "\n",
    "x_train_norm = (x_train - x_train.min(axis=0)) / (x_train.max(axis=0) - x_train.min(axis=0))\n",
    "x_test_norm = (x_test - x_test.min(axis=0)) / (x_test.max(axis=0) - x_test.min(axis=0))\n",
    "\n",
    "train_y_enc = encoder.fit_transform(y_train.reshape(-1,1))\n",
    "test_y_enc = encoder.fit_transform(y_test.reshape(-1,1))"
   ]
  },
  {
   "cell_type": "code",
   "execution_count": 4,
   "id": "adapted-rotation",
   "metadata": {},
   "outputs": [],
   "source": [
    "# MLP\n",
    "mlp = keras.models.Sequential()\n",
    "\n",
    "mlp.add(Dense(512, activation=\"sigmoid\", input_shape=(8,)))\n",
    "mlp.add(Dense(2, activation='softmax', name='output'))\n",
    "\n",
    "optimizer = Adam(lr=0.001)\n",
    "mlp.compile(optimizer, loss='categorical_crossentropy', metrics=['accuracy'])\n",
    "mlp.fit(x_train, y_train_enc, verbose=0, batch_size=5, epochs=100)\n",
    "results = mlp.evaluate(x_test, y_test_enc, verbose=0)\n",
    "\n",
    "print('Final test set loss: {:4f}'.format(results[0]))\n",
    "print('Final test set accuracy: {:4f}'.format(results[1]))\n",
    "\n",
    "class_results = mlp.predict_classes(x_test)\n",
    "confusion_matrix_vals = confusion_matrix(y_test, class_results)\n",
    "print(classification_report(y_test, class_results, target_names=class_names))\n",
    "\n",
    "disp1 = ConfusionMatrixDisplay(confusion_matrix=confusion_matrix_vals, display_labels=class_names)\n",
    "disp1.plot()\n",
    "\n"
   ]
  },
  {
   "cell_type": "code",
   "execution_count": null,
   "id": "hollywood-pilot",
   "metadata": {},
   "outputs": [],
   "source": []
  }
 ],
 "metadata": {
  "kernelspec": {
   "display_name": "Python 3",
   "language": "python",
   "name": "python3"
  },
  "language_info": {
   "codemirror_mode": {
    "name": "ipython",
    "version": 3
   },
   "file_extension": ".py",
   "mimetype": "text/x-python",
   "name": "python",
   "nbconvert_exporter": "python",
   "pygments_lexer": "ipython3",
   "version": "3.7.9"
  }
 },
 "nbformat": 4,
 "nbformat_minor": 5
}
