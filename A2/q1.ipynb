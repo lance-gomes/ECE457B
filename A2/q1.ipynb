{
 "cells": [
  {
   "cell_type": "code",
   "execution_count": 97,
   "id": "intended-uncertainty",
   "metadata": {},
   "outputs": [],
   "source": [
    "# Imports\n",
    "import numpy as np\n",
    "import matplotlib.pyplot as plt\n",
    "import tensorflow.keras as keras\n",
    "\n",
    "from math import *\n",
    "\n",
    "from tensorflow.keras.models import Sequential\n",
    "from tensorflow.keras.layers import Dense, Flatten\n",
    "from tensorflow.keras.optimizers import Adam\n",
    "\n",
    "from sklearn.model_selection import train_test_split\n",
    "from sklearn.preprocessing import OneHotEncoder, MinMaxScaler\n",
    "from sklearn.metrics import confusion_matrix, classification_report, ConfusionMatrixDisplay"
   ]
  },
  {
   "cell_type": "code",
   "execution_count": 98,
   "id": "changed-rochester",
   "metadata": {},
   "outputs": [
    {
     "name": "stdout",
     "output_type": "stream",
     "text": [
      "(768, 8)\n",
      "(768,)\n"
     ]
    }
   ],
   "source": [
    "# Parse CSV\n",
    "data = np.genfromtxt('./diabetes.csv', delimiter=',')\n",
    "data = np.delete(data, 0, axis=0)\n",
    "labels = data[:, -1]\n",
    "data = np.delete(data, -1, axis=1)\n",
    "\n",
    "print(np.shape(data))\n",
    "print(np.shape(labels))"
   ]
  },
  {
   "cell_type": "code",
   "execution_count": 99,
   "id": "killing-acquisition",
   "metadata": {},
   "outputs": [
    {
     "name": "stdout",
     "output_type": "stream",
     "text": [
      "Sample train data: [[0.17647059 0.86934673 0.63934426 0.39393939 0.21867612 0.50372578\n",
      "  0.38087105 0.16666667]]\n",
      "Sample train labels: [[0. 1.]]\n"
     ]
    }
   ],
   "source": [
    "# Preprocess Data\n",
    "data_norm = (data - data.min(axis=0)) / (data.max(axis=0) - data.min(axis=0))\n",
    "\n",
    "encoder = OneHotEncoder(sparse=False)\n",
    "\n",
    "x_train, x_test, y_train, y_test = train_test_split(data_norm, labels, test_size=0.20)\n",
    "y_train_enc = encoder.fit_transform(y_train.reshape(-1,1))\n",
    "y_test_enc = encoder.fit_transform(y_test.reshape(-1,1))\n",
    "class_names = ['Has Diabetes', 'No Diabetes']\n",
    "\n",
    "print(\"Sample train data: {}\".format(x_train[:1]))\n",
    "print(\"Sample train labels: {}\".format(y_train_enc[:1]))"
   ]
  },
  {
   "cell_type": "code",
   "execution_count": 100,
   "id": "cloudy-charger",
   "metadata": {},
   "outputs": [
    {
     "name": "stdout",
     "output_type": "stream",
     "text": [
      "Final test set loss: 0.553421\n",
      "Final test set accuracy: 0.714286\n",
      "              precision    recall  f1-score   support\n",
      "\n",
      "Has Diabetes       0.74      0.87      0.80       103\n",
      " No Diabetes       0.61      0.39      0.48        51\n",
      "\n",
      "    accuracy                           0.71       154\n",
      "   macro avg       0.67      0.63      0.64       154\n",
      "weighted avg       0.70      0.71      0.70       154\n",
      "\n"
     ]
    },
    {
     "data": {
      "text/plain": [
       "<sklearn.metrics._plot.confusion_matrix.ConfusionMatrixDisplay at 0x7fba80526f10>"
      ]
     },
     "execution_count": 100,
     "metadata": {},
     "output_type": "execute_result"
    },
    {
     "data": {
      "image/png": "[encoded data removed]",
      "text/plain": [
       "<Figure size 432x288 with 2 Axes>"
      ]
     },
     "metadata": {
      "needs_background": "light"
     },
     "output_type": "display_data"
    }
   ],
   "source": [
    "# 1 Hidden Layer, 1 nodes, 2 nodes in output layer\n",
    "mlp = keras.models.Sequential()\n",
    "\n",
    "mlp.add(Dense(3, activation=\"sigmoid\", input_shape=(8,)))\n",
    "mlp.add(Dense(2, activation='softmax', name='output'))\n",
    "\n",
    "optimizer = Adam(lr=0.001)\n",
    "mlp.compile(optimizer, loss='categorical_crossentropy', metrics=['accuracy'])\n",
    "mlp.fit(x_train, y_train_enc, verbose=0, batch_size=5, epochs=100)\n",
    "results = mlp.evaluate(x_test, y_test_enc, verbose=0)\n",
    "\n",
    "print('Final test set loss: {:4f}'.format(results[0]))\n",
    "print('Final test set accuracy: {:4f}'.format(results[1]))\n",
    "\n",
    "class_results = mlp.predict_classes(x_test)\n",
    "confusion_matrix_vals = confusion_matrix(y_test, class_results)\n",
    "print(classification_report(y_test, class_results, target_names=class_names))\n",
    "\n",
    "disp1 = ConfusionMatrixDisplay(confusion_matrix=confusion_matrix_vals, display_labels=class_names)\n",
    "disp1.plot()"
   ]
  },
  {
   "cell_type": "code",
   "execution_count": 101,
   "id": "consolidated-norman",
   "metadata": {},
   "outputs": [
    {
     "name": "stdout",
     "output_type": "stream",
     "text": [
      "Final test set loss: 0.514289\n",
      "Final test set accuracy: 0.714286\n",
      "              precision    recall  f1-score   support\n",
      "\n",
      "Has Diabetes       0.78      0.81      0.79       103\n",
      " No Diabetes       0.57      0.53      0.55        51\n",
      "\n",
      "    accuracy                           0.71       154\n",
      "   macro avg       0.68      0.67      0.67       154\n",
      "weighted avg       0.71      0.71      0.71       154\n",
      "\n"
     ]
    },
    {
     "data": {
      "text/plain": [
       "<sklearn.metrics._plot.confusion_matrix.ConfusionMatrixDisplay at 0x7fba7c41f090>"
      ]
     },
     "execution_count": 101,
     "metadata": {},
     "output_type": "execute_result"
    },
    {
     "data": {
      "image/png": "[encoded data removed]",
      "text/plain": [
       "<Figure size 432x288 with 2 Axes>"
      ]
     },
     "metadata": {
      "needs_background": "light"
     },
     "output_type": "display_data"
    }
   ],
   "source": [
    "# 1 Hidden Layer, 1 nodes, 2 nodes in output layer\n",
    "mlp = keras.models.Sequential()\n",
    "\n",
    "mlp.add(Dense(10, activation=\"sigmoid\", input_shape=(8,)))\n",
    "mlp.add(Dense(2, activation='softmax', name='output'))\n",
    "\n",
    "optimizer = Adam(lr=0.001)\n",
    "mlp.compile(optimizer, loss='categorical_crossentropy', metrics=['accuracy'])\n",
    "mlp.fit(x_train, y_train_enc, verbose=0, batch_size=5, epochs=100)\n",
    "results = mlp.evaluate(x_test, y_test_enc, verbose=0)\n",
    "\n",
    "print('Final test set loss: {:4f}'.format(results[0]))\n",
    "print('Final test set accuracy: {:4f}'.format(results[1]))\n",
    "\n",
    "class_results = mlp.predict_classes(x_test)\n",
    "confusion_matrix_vals = confusion_matrix(y_test, class_results)\n",
    "print(classification_report(y_test, class_results, target_names=class_names))\n",
    "\n",
    "disp1 = ConfusionMatrixDisplay(confusion_matrix=confusion_matrix_vals, display_labels=class_names)\n",
    "disp1.plot()"
   ]
  },
  {
   "cell_type": "code",
   "execution_count": null,
   "id": "careful-central",
   "metadata": {},
   "outputs": [],
   "source": [
    "# 1 Hidden Layer, 1 nodes, 2 nodes in output layer\n",
    "mlp = keras.models.Sequential()\n",
    "\n",
    "mlp.add(Dense(3, activation=\"sigmoid\", input_shape=(8,)))\n",
    "mlp.add(Dense(3, activation='relu', name='hidden1'))\n",
    "mlp.add(Dense(2, activation='softmax', name='output'))\n",
    "\n",
    "optimizer = Adam(lr=0.001)\n",
    "mlp.compile(optimizer, loss='categorical_crossentropy', metrics=['accuracy'])\n",
    "mlp.fit(x_train, y_train_enc, verbose=0, batch_size=5, epochs=100)\n",
    "results = mlp.evaluate(x_test, y_test_enc, verbose=0)\n",
    "\n",
    "print('Final test set loss: {:4f}'.format(results[0]))\n",
    "print('Final test set accuracy: {:4f}'.format(results[1]))\n",
    "\n",
    "class_results = mlp.predict_classes(x_test)\n",
    "confusion_matrix_vals = confusion_matrix(y_test, class_results)\n",
    "print(classification_report(y_test, class_results, target_names=class_names))\n",
    "\n",
    "disp1 = ConfusionMatrixDisplay(confusion_matrix=confusion_matrix_vals, display_labels=class_names)\n",
    "disp1.plot()"
   ]
  },
  {
   "cell_type": "code",
   "execution_count": 103,
   "id": "correct-telescope",
   "metadata": {},
   "outputs": [
    {
     "name": "stdout",
     "output_type": "stream",
     "text": [
      "Final test set loss: 0.486431\n",
      "Final test set accuracy: 0.759740\n",
      "              precision    recall  f1-score   support\n",
      "\n",
      "Has Diabetes       0.81      0.84      0.82       103\n",
      " No Diabetes       0.65      0.59      0.62        51\n",
      "\n",
      "    accuracy                           0.76       154\n",
      "   macro avg       0.73      0.72      0.72       154\n",
      "weighted avg       0.75      0.76      0.76       154\n",
      "\n"
     ]
    },
    {
     "data": {
      "text/plain": [
       "<sklearn.metrics._plot.confusion_matrix.ConfusionMatrixDisplay at 0x7fba8244c7d0>"
      ]
     },
     "execution_count": 103,
     "metadata": {},
     "output_type": "execute_result"
    },
    {
     "data": {
      "image/png": "[encoded data removed]",
      "text/plain": [
       "<Figure size 432x288 with 2 Axes>"
      ]
     },
     "metadata": {
      "needs_background": "light"
     },
     "output_type": "display_data"
    }
   ],
   "source": [
    "# 1 Hidden Layer, 1 nodes, 2 nodes in output layer\n",
    "mlp = keras.models.Sequential()\n",
    "\n",
    "mlp.add(Dense(10, activation=\"sigmoid\", input_shape=(8,)))\n",
    "mlp.add(Dense(3, activation='relu', name='hidden1'))\n",
    "mlp.add(Dense(2, activation='softmax', name='output'))\n",
    "\n",
    "optimizer = Adam(lr=0.001)\n",
    "mlp.compile(optimizer, loss='categorical_crossentropy', metrics=['accuracy'])\n",
    "mlp.fit(x_train, y_train_enc, verbose=0, batch_size=5, epochs=100)\n",
    "results = mlp.evaluate(x_test, y_test_enc, verbose=0)\n",
    "\n",
    "print('Final test set loss: {:4f}'.format(results[0]))\n",
    "print('Final test set accuracy: {:4f}'.format(results[1]))\n",
    "\n",
    "class_results = mlp.predict_classes(x_test)\n",
    "confusion_matrix_vals = confusion_matrix(y_test, class_results)\n",
    "print(classification_report(y_test, class_results, target_names=class_names))\n",
    "\n",
    "disp1 = ConfusionMatrixDisplay(confusion_matrix=confusion_matrix_vals, display_labels=class_names)\n",
    "disp1.plot()"
   ]
  },
  {
   "cell_type": "code",
   "execution_count": 104,
   "id": "systematic-attack",
   "metadata": {},
   "outputs": [
    {
     "name": "stdout",
     "output_type": "stream",
     "text": [
      "Final test set loss: 0.479775\n",
      "Final test set accuracy: 0.733766\n",
      "              precision    recall  f1-score   support\n",
      "\n",
      "Has Diabetes       0.80      0.81      0.80       103\n",
      " No Diabetes       0.60      0.59      0.59        51\n",
      "\n",
      "    accuracy                           0.73       154\n",
      "   macro avg       0.70      0.70      0.70       154\n",
      "weighted avg       0.73      0.73      0.73       154\n",
      "\n"
     ]
    },
    {
     "data": {
      "text/plain": [
       "<sklearn.metrics._plot.confusion_matrix.ConfusionMatrixDisplay at 0x7fba805f98d0>"
      ]
     },
     "execution_count": 104,
     "metadata": {},
     "output_type": "execute_result"
    },
    {
     "data": {
      "image/png": "[encoded data removed]",
      "text/plain": [
       "<Figure size 432x288 with 2 Axes>"
      ]
     },
     "metadata": {
      "needs_background": "light"
     },
     "output_type": "display_data"
    }
   ],
   "source": [
    "# 1 Hidden Layer, 1 nodes, 2 nodes in output layer\n",
    "mlp = keras.models.Sequential()\n",
    "\n",
    "mlp.add(Dense(10, activation=\"sigmoid\", input_shape=(8,)))\n",
    "mlp.add(Dense(10, activation='relu', name='hidden1'))\n",
    "mlp.add(Dense(2, activation='softmax', name='output'))\n",
    "\n",
    "optimizer = Adam(lr=0.001)\n",
    "mlp.compile(optimizer, loss='categorical_crossentropy', metrics=['accuracy'])\n",
    "mlp.fit(x_train, y_train_enc, verbose=0, batch_size=5, epochs=200)\n",
    "results = mlp.evaluate(x_test, y_test_enc, verbose=0)\n",
    "\n",
    "print('Final test set loss: {:4f}'.format(results[0]))\n",
    "print('Final test set accuracy: {:4f}'.format(results[1]))\n",
    "\n",
    "class_results = mlp.predict_classes(x_test)\n",
    "confusion_matrix_vals = confusion_matrix(y_test, class_results)\n",
    "print(classification_report(y_test, class_results, target_names=class_names))\n",
    "\n",
    "disp1 = ConfusionMatrixDisplay(confusion_matrix=confusion_matrix_vals, display_labels=class_names)\n",
    "disp1.plot()"
   ]
  },
  {
   "cell_type": "code",
   "execution_count": 105,
   "id": "fourth-illness",
   "metadata": {},
   "outputs": [
    {
     "name": "stdout",
     "output_type": "stream",
     "text": [
      "Final test set loss: 0.560588\n",
      "Final test set accuracy: 0.746753\n",
      "              precision    recall  f1-score   support\n",
      "\n",
      "Has Diabetes       0.76      0.90      0.83       103\n",
      " No Diabetes       0.69      0.43      0.53        51\n",
      "\n",
      "    accuracy                           0.75       154\n",
      "   macro avg       0.72      0.67      0.68       154\n",
      "weighted avg       0.74      0.75      0.73       154\n",
      "\n"
     ]
    },
    {
     "data": {
      "text/plain": [
       "<sklearn.metrics._plot.confusion_matrix.ConfusionMatrixDisplay at 0x7fba80485710>"
      ]
     },
     "execution_count": 105,
     "metadata": {},
     "output_type": "execute_result"
    },
    {
     "data": {
      "image/png": "[encoded data removed]",
      "text/plain": [
       "<Figure size 432x288 with 2 Axes>"
      ]
     },
     "metadata": {
      "needs_background": "light"
     },
     "output_type": "display_data"
    }
   ],
   "source": [
    "# 1 Hidden Layer, 1 nodes, 2 nodes in output layer\n",
    "mlp = keras.models.Sequential()\n",
    "\n",
    "mlp.add(Dense(32, activation=\"sigmoid\", input_shape=(8,)))\n",
    "mlp.add(Dense(10, activation='relu', name='hidden1'))\n",
    "mlp.add(Dense(2, activation='softmax', name='output'))\n",
    "\n",
    "optimizer = Adam(lr=0.0001)\n",
    "mlp.compile(optimizer, loss='categorical_crossentropy', metrics=['accuracy'])\n",
    "mlp.fit(x_train, y_train_enc, verbose=0, batch_size=5, epochs=200)\n",
    "results = mlp.evaluate(x_test, y_test_enc, verbose=0)\n",
    "\n",
    "print('Final test set loss: {:4f}'.format(results[0]))\n",
    "print('Final test set accuracy: {:4f}'.format(results[1]))\n",
    "\n",
    "class_results = mlp.predict_classes(x_test)\n",
    "confusion_matrix_vals = confusion_matrix(y_test, class_results)\n",
    "print(classification_report(y_test, class_results, target_names=class_names))\n",
    "\n",
    "disp1 = ConfusionMatrixDisplay(confusion_matrix=confusion_matrix_vals, display_labels=class_names)\n",
    "disp1.plot()"
   ]
  },
  {
   "cell_type": "code",
   "execution_count": 106,
   "id": "productive-gross",
   "metadata": {},
   "outputs": [
    {
     "name": "stdout",
     "output_type": "stream",
     "text": [
      "Final test set loss: 0.515268\n",
      "Final test set accuracy: 0.720779\n",
      "              precision    recall  f1-score   support\n",
      "\n",
      "Has Diabetes       0.78      0.82      0.80       103\n",
      " No Diabetes       0.59      0.53      0.56        51\n",
      "\n",
      "    accuracy                           0.72       154\n",
      "   macro avg       0.68      0.67      0.68       154\n",
      "weighted avg       0.71      0.72      0.72       154\n",
      "\n"
     ]
    },
    {
     "data": {
      "text/plain": [
       "<sklearn.metrics._plot.confusion_matrix.ConfusionMatrixDisplay at 0x7fba83d4c090>"
      ]
     },
     "execution_count": 106,
     "metadata": {},
     "output_type": "execute_result"
    },
    {
     "data": {
      "image/png": "[encoded data removed]",
      "text/plain": [
       "<Figure size 432x288 with 2 Axes>"
      ]
     },
     "metadata": {
      "needs_background": "light"
     },
     "output_type": "display_data"
    }
   ],
   "source": [
    "# 1 Hidden Layer, 1 nodes, 2 nodes in output layer\n",
    "mlp = keras.models.Sequential()\n",
    "\n",
    "mlp.add(Dense(32, activation=\"sigmoid\", input_shape=(8,)))\n",
    "mlp.add(Dense(64, activation='relu', name='hidden1'))\n",
    "mlp.add(Dense(2, activation='softmax', name='output'))\n",
    "\n",
    "optimizer = Adam(lr=0.0001)\n",
    "mlp.compile(optimizer, loss='categorical_crossentropy', metrics=['accuracy'])\n",
    "mlp.fit(x_train, y_train_enc, verbose=0, batch_size=5, epochs=200)\n",
    "results = mlp.evaluate(x_test, y_test_enc, verbose=0)\n",
    "\n",
    "print('Final test set loss: {:4f}'.format(results[0]))\n",
    "print('Final test set accuracy: {:4f}'.format(results[1]))\n",
    "\n",
    "class_results = mlp.predict_classes(x_test)\n",
    "confusion_matrix_vals = confusion_matrix(y_test, class_results)\n",
    "print(classification_report(y_test, class_results, target_names=class_names))\n",
    "\n",
    "disp1 = ConfusionMatrixDisplay(confusion_matrix=confusion_matrix_vals, display_labels=class_names)\n",
    "disp1.plot()"
   ]
  },
  {
   "cell_type": "code",
   "execution_count": null,
   "id": "conventional-campbell",
   "metadata": {},
   "outputs": [],
   "source": []
  },
  {
   "cell_type": "code",
   "execution_count": null,
   "id": "opened-williams",
   "metadata": {},
   "outputs": [],
   "source": []
  }
 ],
 "metadata": {
  "kernelspec": {
   "display_name": "Python 3",
   "language": "python",
   "name": "python3"
  },
  "language_info": {
   "codemirror_mode": {
    "name": "ipython",
    "version": 3
   },
   "file_extension": ".py",
   "mimetype": "text/x-python",
   "name": "python",
   "nbconvert_exporter": "python",
   "pygments_lexer": "ipython3",
   "version": "3.7.9"
  }
 },
 "nbformat": 4,
 "nbformat_minor": 5
}
